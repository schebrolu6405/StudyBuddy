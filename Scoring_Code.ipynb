{
  "cells": [
    {
      "cell_type": "markdown",
      "metadata": {
        "id": "sq2-GGJy4bwO"
      },
      "source": [
        "# Scoring Technique\n",
        "\n",
        "* BLEU\n",
        "* Rouge\n",
        "* BERT Score\n",
        "* GPT Score"
      ]
    },
    {
      "cell_type": "code",
      "execution_count": null,
      "metadata": {
        "id": "VxvkC6-d4sHg"
      },
      "outputs": [],
      "source": [
        "!pip install evaluate"
      ]
    },
    {
      "cell_type": "code",
      "execution_count": null,
      "metadata": {
        "id": "OAQv_aLR4sEx"
      },
      "outputs": [],
      "source": [
        "!pip install bert_score"
      ]
    },
    {
      "cell_type": "code",
      "execution_count": null,
      "metadata": {
        "id": "KPpAPT_y4sKU"
      },
      "outputs": [],
      "source": [
        "!pip install rouge_score"
      ]
    },
    {
      "cell_type": "code",
      "execution_count": null,
      "metadata": {
        "id": "LlZbCNTG4sNm"
      },
      "outputs": [],
      "source": [
        "import evaluate\n",
        "from bert_score import score as bertscore\n",
        "import openai\n",
        "from typing import List\n",
        "\n",
        "# Optional: set your OpenAI key if you're using GPT-based scoring\n",
        "#openai.api_key = \"your-openai-api-key\"\n",
        "import evaluate\n",
        "\n",
        "# Load metrics\n",
        "rouge = evaluate.load(\"rouge\")\n",
        "bleu = evaluate.load(\"bleu\")\n",
        "\n",
        "ground_truth_responses = [\"they used the following dataset: ImageNet, CIFAR-10, MS COCO and Pascal VOC 2007 and 2012\"]"
      ]
    },
    {
      "cell_type": "code",
      "execution_count": null,
      "metadata": {
        "id": "Se-O4p8h5yn0"
      },
      "outputs": [],
      "source": [
        "# Update your model response here\n",
        "generated_responses = [response['response']]"
      ]
    },
    {
      "cell_type": "code",
      "execution_count": null,
      "metadata": {
        "id": "VOuT0tZM5IHa"
      },
      "outputs": [],
      "source": [
        "# === ROUGE ===\n",
        "#rouge = load_metric(\"rouge\")\n",
        "rouge_scores = rouge.compute(predictions=generated_responses, references=ground_truth_responses)\n",
        "print(\"ROUGE scores:\\n\", rouge_scores)\n"
      ]
    },
    {
      "cell_type": "code",
      "execution_count": null,
      "metadata": {
        "id": "retuzC6x5JFi"
      },
      "outputs": [],
      "source": [
        "# === BLEU ===\n",
        "bleu_score = bleu.compute(predictions=generated_responses, references=ground_truth_responses)\n",
        "print(\"BLEU Score:\\n\", bleu_score)"
      ]
    },
    {
      "cell_type": "code",
      "execution_count": null,
      "metadata": {
        "id": "xDP75pok5TMe"
      },
      "outputs": [],
      "source": [
        "import openai\n",
        "\n",
        "client = openai.OpenAI(api_key=\"*** YOUR_OPENAI_API_KEY ***\")\n",
        "\n",
        "def gpt_score_response(prompt: str, response: str, reference: str):\n",
        "    system_prompt = (\n",
        "        \"You're an expert evaluator. Given a user query, a model response, and a reference answer, \"\n",
        "        \"rate the model response for helpfulness, relevance, and accuracy on a scale of 1-10 each. \"\n",
        "        \"Return a JSON with keys: helpfulness, relevance, accuracy.\"\n",
        "    )\n",
        "\n",
        "    messages = [\n",
        "        {\"role\": \"system\", \"content\": system_prompt},\n",
        "        {\"role\": \"user\", \"content\": f\"\"\"\n",
        "Query: {prompt}\n",
        "Model Response: {response}\n",
        "Reference Answer: {reference}\n",
        "\"\"\"}\n",
        "    ]\n",
        "\n",
        "    chat_response = client.chat.completions.create(\n",
        "        model=\"gpt-4o\",\n",
        "        messages=messages,\n",
        "        temperature=0.2\n",
        "    )\n",
        "\n",
        "    return chat_response.choices[0].message.content"
      ]
    },
    {
      "cell_type": "code",
      "execution_count": null,
      "metadata": {
        "id": "DsvKJYT95TPu"
      },
      "outputs": [],
      "source": [
        "### Paper - pdf_url = 'https://arxiv.org/pdf/1512.03385'\n",
        "#### Resnet #####\n",
        "\n",
        "query = \"What datasets were used here?\"\n",
        "eval_result = gpt_score_response(query, generated_responses[0], ground_truth_responses[0])\n",
        "print(\"GPT-based evaluation:\\n\", eval_result)"
      ]
    },
    {
      "cell_type": "code",
      "execution_count": null,
      "metadata": {
        "id": "REKcGlxLCG-S"
      },
      "outputs": [],
      "source": [
        "### Paper - pdf_url = 'https://arxiv.org/pdf/1706.03762v7'\n",
        "#### Resnet #####\n",
        "query = \"What are the two main components of transformer architecture?\"\n",
        "eval_result = gpt_score_response(query, generated_responses[0], ground_truth_responses[0])\n",
        "print(\"GPT-based evaluation:\\n\", eval_result)"
      ]
    }
  ],
  "metadata": {
    "colab": {
      "provenance": []
    },
    "kernelspec": {
      "display_name": "Python 3",
      "name": "python3"
    },
    "language_info": {
      "name": "python"
    }
  },
  "nbformat": 4,
  "nbformat_minor": 0
}
